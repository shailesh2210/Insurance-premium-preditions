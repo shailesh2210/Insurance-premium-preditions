{
 "cells": [
  {
   "cell_type": "code",
   "execution_count": 1,
   "id": "287f8831",
   "metadata": {},
   "outputs": [],
   "source": [
    "import pandas as pd\n",
    "import numpy as np\n",
    "import matplotlib.pyplot as plt\n",
    "%matplotlib inline\n",
    "import seaborn as sns\n",
    "from sklearn.preprocessing import LabelEncoder\n",
    "from sklearn.model_selection import train_test_split\n",
    "from sklearn.linear_model import LinearRegression\n",
    "from sklearn.tree import DecisionTreeRegressor\n",
    "from sklearn.ensemble import RandomForestRegressor\n",
    "from sklearn.metrics import mean_absolute_error, mean_squared_error , r2_score\n",
    "from sklearn.model_selection import cross_val_score\n",
    "import pickle"
   ]
  },
  {
   "cell_type": "code",
   "execution_count": 2,
   "id": "347d50a0",
   "metadata": {},
   "outputs": [],
   "source": [
    "df = pd.read_csv(\"insurance.csv\")"
   ]
  },
  {
   "cell_type": "code",
   "execution_count": 3,
   "id": "ae67a4e8",
   "metadata": {},
   "outputs": [
    {
     "data": {
      "text/html": [
       "<div>\n",
       "<style scoped>\n",
       "    .dataframe tbody tr th:only-of-type {\n",
       "        vertical-align: middle;\n",
       "    }\n",
       "\n",
       "    .dataframe tbody tr th {\n",
       "        vertical-align: top;\n",
       "    }\n",
       "\n",
       "    .dataframe thead th {\n",
       "        text-align: right;\n",
       "    }\n",
       "</style>\n",
       "<table border=\"1\" class=\"dataframe\">\n",
       "  <thead>\n",
       "    <tr style=\"text-align: right;\">\n",
       "      <th></th>\n",
       "      <th>age</th>\n",
       "      <th>sex</th>\n",
       "      <th>bmi</th>\n",
       "      <th>children</th>\n",
       "      <th>smoker</th>\n",
       "      <th>region</th>\n",
       "      <th>expenses</th>\n",
       "    </tr>\n",
       "  </thead>\n",
       "  <tbody>\n",
       "    <tr>\n",
       "      <th>0</th>\n",
       "      <td>19</td>\n",
       "      <td>female</td>\n",
       "      <td>27.9</td>\n",
       "      <td>0</td>\n",
       "      <td>yes</td>\n",
       "      <td>southwest</td>\n",
       "      <td>16884.92</td>\n",
       "    </tr>\n",
       "    <tr>\n",
       "      <th>1</th>\n",
       "      <td>18</td>\n",
       "      <td>male</td>\n",
       "      <td>33.8</td>\n",
       "      <td>1</td>\n",
       "      <td>no</td>\n",
       "      <td>southeast</td>\n",
       "      <td>1725.55</td>\n",
       "    </tr>\n",
       "    <tr>\n",
       "      <th>2</th>\n",
       "      <td>28</td>\n",
       "      <td>male</td>\n",
       "      <td>33.0</td>\n",
       "      <td>3</td>\n",
       "      <td>no</td>\n",
       "      <td>southeast</td>\n",
       "      <td>4449.46</td>\n",
       "    </tr>\n",
       "    <tr>\n",
       "      <th>3</th>\n",
       "      <td>33</td>\n",
       "      <td>male</td>\n",
       "      <td>22.7</td>\n",
       "      <td>0</td>\n",
       "      <td>no</td>\n",
       "      <td>northwest</td>\n",
       "      <td>21984.47</td>\n",
       "    </tr>\n",
       "    <tr>\n",
       "      <th>4</th>\n",
       "      <td>32</td>\n",
       "      <td>male</td>\n",
       "      <td>28.9</td>\n",
       "      <td>0</td>\n",
       "      <td>no</td>\n",
       "      <td>northwest</td>\n",
       "      <td>3866.86</td>\n",
       "    </tr>\n",
       "  </tbody>\n",
       "</table>\n",
       "</div>"
      ],
      "text/plain": [
       "   age     sex   bmi  children smoker     region  expenses\n",
       "0   19  female  27.9         0    yes  southwest  16884.92\n",
       "1   18    male  33.8         1     no  southeast   1725.55\n",
       "2   28    male  33.0         3     no  southeast   4449.46\n",
       "3   33    male  22.7         0     no  northwest  21984.47\n",
       "4   32    male  28.9         0     no  northwest   3866.86"
      ]
     },
     "execution_count": 3,
     "metadata": {},
     "output_type": "execute_result"
    }
   ],
   "source": [
    "df.head()"
   ]
  },
  {
   "cell_type": "code",
   "execution_count": 4,
   "id": "fe4f8b95",
   "metadata": {},
   "outputs": [
    {
     "data": {
      "text/html": [
       "<div>\n",
       "<style scoped>\n",
       "    .dataframe tbody tr th:only-of-type {\n",
       "        vertical-align: middle;\n",
       "    }\n",
       "\n",
       "    .dataframe tbody tr th {\n",
       "        vertical-align: top;\n",
       "    }\n",
       "\n",
       "    .dataframe thead th {\n",
       "        text-align: right;\n",
       "    }\n",
       "</style>\n",
       "<table border=\"1\" class=\"dataframe\">\n",
       "  <thead>\n",
       "    <tr style=\"text-align: right;\">\n",
       "      <th></th>\n",
       "      <th>age</th>\n",
       "      <th>sex</th>\n",
       "      <th>bmi</th>\n",
       "      <th>children</th>\n",
       "      <th>smoker</th>\n",
       "      <th>region</th>\n",
       "      <th>expenses</th>\n",
       "    </tr>\n",
       "  </thead>\n",
       "  <tbody>\n",
       "    <tr>\n",
       "      <th>1333</th>\n",
       "      <td>50</td>\n",
       "      <td>male</td>\n",
       "      <td>31.0</td>\n",
       "      <td>3</td>\n",
       "      <td>no</td>\n",
       "      <td>northwest</td>\n",
       "      <td>10600.55</td>\n",
       "    </tr>\n",
       "    <tr>\n",
       "      <th>1334</th>\n",
       "      <td>18</td>\n",
       "      <td>female</td>\n",
       "      <td>31.9</td>\n",
       "      <td>0</td>\n",
       "      <td>no</td>\n",
       "      <td>northeast</td>\n",
       "      <td>2205.98</td>\n",
       "    </tr>\n",
       "    <tr>\n",
       "      <th>1335</th>\n",
       "      <td>18</td>\n",
       "      <td>female</td>\n",
       "      <td>36.9</td>\n",
       "      <td>0</td>\n",
       "      <td>no</td>\n",
       "      <td>southeast</td>\n",
       "      <td>1629.83</td>\n",
       "    </tr>\n",
       "    <tr>\n",
       "      <th>1336</th>\n",
       "      <td>21</td>\n",
       "      <td>female</td>\n",
       "      <td>25.8</td>\n",
       "      <td>0</td>\n",
       "      <td>no</td>\n",
       "      <td>southwest</td>\n",
       "      <td>2007.95</td>\n",
       "    </tr>\n",
       "    <tr>\n",
       "      <th>1337</th>\n",
       "      <td>61</td>\n",
       "      <td>female</td>\n",
       "      <td>29.1</td>\n",
       "      <td>0</td>\n",
       "      <td>yes</td>\n",
       "      <td>northwest</td>\n",
       "      <td>29141.36</td>\n",
       "    </tr>\n",
       "  </tbody>\n",
       "</table>\n",
       "</div>"
      ],
      "text/plain": [
       "      age     sex   bmi  children smoker     region  expenses\n",
       "1333   50    male  31.0         3     no  northwest  10600.55\n",
       "1334   18  female  31.9         0     no  northeast   2205.98\n",
       "1335   18  female  36.9         0     no  southeast   1629.83\n",
       "1336   21  female  25.8         0     no  southwest   2007.95\n",
       "1337   61  female  29.1         0    yes  northwest  29141.36"
      ]
     },
     "execution_count": 4,
     "metadata": {},
     "output_type": "execute_result"
    }
   ],
   "source": [
    "df.tail()"
   ]
  },
  {
   "cell_type": "markdown",
   "id": "c24006da",
   "metadata": {},
   "source": [
    "here we can see that age , bmi children and expenses are numerical features\n"
   ]
  },
  {
   "cell_type": "markdown",
   "id": "6f6b31a4",
   "metadata": {},
   "source": [
    "sex and region are categorical features"
   ]
  },
  {
   "cell_type": "code",
   "execution_count": 5,
   "id": "95123636",
   "metadata": {},
   "outputs": [
    {
     "data": {
      "text/plain": [
       "age         0\n",
       "sex         0\n",
       "bmi         0\n",
       "children    0\n",
       "smoker      0\n",
       "region      0\n",
       "expenses    0\n",
       "dtype: int64"
      ]
     },
     "execution_count": 5,
     "metadata": {},
     "output_type": "execute_result"
    }
   ],
   "source": [
    "#  here we will check the missing values in our DataFrame\n",
    "df.isnull().sum()\n"
   ]
  },
  {
   "cell_type": "markdown",
   "id": "a16b46b3",
   "metadata": {},
   "source": [
    "###### there are no missing values in the dataset"
   ]
  },
  {
   "cell_type": "markdown",
   "id": "266a19ce",
   "metadata": {},
   "source": [
    "here we can see that there are no missing values in our data frame"
   ]
  },
  {
   "cell_type": "code",
   "execution_count": 6,
   "id": "030cde86",
   "metadata": {},
   "outputs": [],
   "source": [
    "# outliers = []\n",
    "# def outlier_detect(df):\n",
    "    \n",
    "#     threshold = 3   #75% percentile\n",
    "#     mean = np.mean(df)\n",
    "#     std = np.std(df)\n",
    "    \n",
    "#     for i in df:\n",
    "#         z_score = (i - mean)/std\n",
    "#         if np.abs(z_score)>threshold:\n",
    "#             outliers.append(i)\n",
    "#         return outliers"
   ]
  },
  {
   "cell_type": "code",
   "execution_count": 7,
   "id": "f55922fe",
   "metadata": {},
   "outputs": [
    {
     "data": {
      "image/png": "[encoded data removed]",
      "text/plain": [
       "<Figure size 432x288 with 1 Axes>"
      ]
     },
     "metadata": {
      "needs_background": "light"
     },
     "output_type": "display_data"
    }
   ],
   "source": [
    "figure = df.boxplot(column=\"age\")"
   ]
  },
  {
   "cell_type": "code",
   "execution_count": 8,
   "id": "af92590c",
   "metadata": {},
   "outputs": [
    {
     "data": {
      "text/plain": [
       "count    1338.000000\n",
       "mean       39.207025\n",
       "std        14.049960\n",
       "min        18.000000\n",
       "25%        27.000000\n",
       "50%        39.000000\n",
       "75%        51.000000\n",
       "max        64.000000\n",
       "Name: age, dtype: float64"
      ]
     },
     "execution_count": 8,
     "metadata": {},
     "output_type": "execute_result"
    }
   ],
   "source": [
    "df[\"age\"].describe()"
   ]
  },
  {
   "cell_type": "code",
   "execution_count": 9,
   "id": "bc41db3b",
   "metadata": {},
   "outputs": [
    {
     "data": {
      "image/png": "[encoded data removed]",
      "text/plain": [
       "<Figure size 432x288 with 1 Axes>"
      ]
     },
     "metadata": {
      "needs_background": "light"
     },
     "output_type": "display_data"
    }
   ],
   "source": [
    "figure2 = df.boxplot(column=\"children\")"
   ]
  },
  {
   "cell_type": "code",
   "execution_count": 10,
   "id": "7cbb3433",
   "metadata": {},
   "outputs": [
    {
     "data": {
      "text/plain": [
       "count    1338.000000\n",
       "mean        1.094918\n",
       "std         1.205493\n",
       "min         0.000000\n",
       "25%         0.000000\n",
       "50%         1.000000\n",
       "75%         2.000000\n",
       "max         5.000000\n",
       "Name: children, dtype: float64"
      ]
     },
     "execution_count": 10,
     "metadata": {},
     "output_type": "execute_result"
    }
   ],
   "source": [
    "df[\"children\"].describe()"
   ]
  },
  {
   "cell_type": "code",
   "execution_count": 11,
   "id": "0df52af9",
   "metadata": {},
   "outputs": [
    {
     "data": {
      "image/png": "[encoded data removed]",
      "text/plain": [
       "<Figure size 432x288 with 1 Axes>"
      ]
     },
     "metadata": {
      "needs_background": "light"
     },
     "output_type": "display_data"
    }
   ],
   "source": [
    "figure3 = df.boxplot(column=\"bmi\")"
   ]
  },
  {
   "cell_type": "code",
   "execution_count": 12,
   "id": "802c31bb",
   "metadata": {},
   "outputs": [
    {
     "data": {
      "text/plain": [
       "count    1338.000000\n",
       "mean       30.665471\n",
       "std         6.098382\n",
       "min        16.000000\n",
       "25%        26.300000\n",
       "50%        30.400000\n",
       "75%        34.700000\n",
       "max        53.100000\n",
       "Name: bmi, dtype: float64"
      ]
     },
     "execution_count": 12,
     "metadata": {},
     "output_type": "execute_result"
    }
   ],
   "source": [
    "df[\"bmi\"].describe()"
   ]
  },
  {
   "cell_type": "markdown",
   "id": "91784863",
   "metadata": {},
   "source": [
    "#### from the observation observation we can see that age and children column has no outliers but in the bmi column are some of outliers are present"
   ]
  },
  {
   "cell_type": "markdown",
   "id": "5aa0e493",
   "metadata": {},
   "source": [
    "# EDA"
   ]
  },
  {
   "cell_type": "code",
   "execution_count": 13,
   "id": "1100d4ad",
   "metadata": {},
   "outputs": [
    {
     "data": {
      "text/plain": [
       "<AxesSubplot:xlabel='age', ylabel='Count'>"
      ]
     },
     "execution_count": 13,
     "metadata": {},
     "output_type": "execute_result"
    },
    {
     "data": {
      "image/png": "[encoded data removed]",
      "text/plain": [
       "<Figure size 432x288 with 1 Axes>"
      ]
     },
     "metadata": {
      "needs_background": "light"
     },
     "output_type": "display_data"
    }
   ],
   "source": [
    "sns.histplot(df[\"age\"])"
   ]
  },
  {
   "cell_type": "code",
   "execution_count": 14,
   "id": "ed794d78",
   "metadata": {},
   "outputs": [
    {
     "name": "stderr",
     "output_type": "stream",
     "text": [
      "C:\\Users\\shail\\anaconda3\\lib\\site-packages\\seaborn\\distributions.py:2557: FutureWarning: `distplot` is a deprecated function and will be removed in a future version. Please adapt your code to use either `displot` (a figure-level function with similar flexibility) or `histplot` (an axes-level function for histograms).\n",
      "  warnings.warn(msg, FutureWarning)\n"
     ]
    },
    {
     "data": {
      "text/plain": [
       "<AxesSubplot:xlabel='age', ylabel='Density'>"
      ]
     },
     "execution_count": 14,
     "metadata": {},
     "output_type": "execute_result"
    },
    {
     "data": {
      "image/png": "[encoded data removed]",
      "text/plain": [
       "<Figure size 432x288 with 1 Axes>"
      ]
     },
     "metadata": {
      "needs_background": "light"
     },
     "output_type": "display_data"
    }
   ],
   "source": [
    "sns.distplot(df[\"age\"])"
   ]
  },
  {
   "cell_type": "code",
   "execution_count": 15,
   "id": "88484b67",
   "metadata": {},
   "outputs": [
    {
     "data": {
      "text/plain": [
       "18    69\n",
       "19    68\n",
       "20    29\n",
       "51    29\n",
       "45    29\n",
       "46    29\n",
       "47    29\n",
       "48    29\n",
       "50    29\n",
       "52    29\n",
       "28    28\n",
       "54    28\n",
       "21    28\n",
       "27    28\n",
       "26    28\n",
       "49    28\n",
       "25    28\n",
       "24    28\n",
       "23    28\n",
       "22    28\n",
       "53    28\n",
       "42    27\n",
       "44    27\n",
       "43    27\n",
       "41    27\n",
       "40    27\n",
       "31    27\n",
       "30    27\n",
       "29    27\n",
       "56    26\n",
       "34    26\n",
       "33    26\n",
       "32    26\n",
       "57    26\n",
       "55    26\n",
       "35    25\n",
       "59    25\n",
       "58    25\n",
       "36    25\n",
       "39    25\n",
       "38    25\n",
       "37    25\n",
       "60    23\n",
       "61    23\n",
       "62    23\n",
       "63    23\n",
       "64    22\n",
       "Name: age, dtype: int64"
      ]
     },
     "execution_count": 15,
     "metadata": {},
     "output_type": "execute_result"
    }
   ],
   "source": [
    "df[\"age\"].value_counts()"
   ]
  },
  {
   "cell_type": "code",
   "execution_count": 16,
   "id": "a7daa987",
   "metadata": {},
   "outputs": [
    {
     "data": {
      "text/plain": [
       "<AxesSubplot:xlabel='sex', ylabel='Count'>"
      ]
     },
     "execution_count": 16,
     "metadata": {},
     "output_type": "execute_result"
    },
    {
     "data": {
      "image/png": "[encoded data removed]",
      "text/plain": [
       "<Figure size 432x288 with 1 Axes>"
      ]
     },
     "metadata": {
      "needs_background": "light"
     },
     "output_type": "display_data"
    }
   ],
   "source": [
    "sns.histplot(df[\"sex\"])"
   ]
  },
  {
   "cell_type": "code",
   "execution_count": 17,
   "id": "3d8efb50",
   "metadata": {},
   "outputs": [
    {
     "data": {
      "text/plain": [
       "<AxesSubplot:ylabel='sex'>"
      ]
     },
     "execution_count": 17,
     "metadata": {},
     "output_type": "execute_result"
    },
    {
     "data": {
      "image/png": "[encoded data removed]",
      "text/plain": [
       "<Figure size 432x288 with 1 Axes>"
      ]
     },
     "metadata": {},
     "output_type": "display_data"
    }
   ],
   "source": [
    "df[\"sex\"].value_counts().plot(kind=\"pie\" , autopct=\"%2f\")"
   ]
  },
  {
   "cell_type": "code",
   "execution_count": 18,
   "id": "526890f8",
   "metadata": {},
   "outputs": [
    {
     "data": {
      "text/plain": [
       "<AxesSubplot:xlabel='bmi', ylabel='Count'>"
      ]
     },
     "execution_count": 18,
     "metadata": {},
     "output_type": "execute_result"
    },
    {
     "data": {
      "image/png": "[encoded data removed]",
      "text/plain": [
       "<Figure size 432x288 with 1 Axes>"
      ]
     },
     "metadata": {
      "needs_background": "light"
     },
     "output_type": "display_data"
    }
   ],
   "source": [
    "sns.histplot(df[\"bmi\"])"
   ]
  },
  {
   "cell_type": "code",
   "execution_count": 19,
   "id": "25e9acfc",
   "metadata": {},
   "outputs": [
    {
     "name": "stderr",
     "output_type": "stream",
     "text": [
      "C:\\Users\\shail\\anaconda3\\lib\\site-packages\\seaborn\\distributions.py:2557: FutureWarning: `distplot` is a deprecated function and will be removed in a future version. Please adapt your code to use either `displot` (a figure-level function with similar flexibility) or `histplot` (an axes-level function for histograms).\n",
      "  warnings.warn(msg, FutureWarning)\n"
     ]
    },
    {
     "data": {
      "text/plain": [
       "<AxesSubplot:xlabel='bmi', ylabel='Density'>"
      ]
     },
     "execution_count": 19,
     "metadata": {},
     "output_type": "execute_result"
    },
    {
     "data": {
      "image/png": "[encoded data removed]",
      "text/plain": [
       "<Figure size 432x288 with 1 Axes>"
      ]
     },
     "metadata": {
      "needs_background": "light"
     },
     "output_type": "display_data"
    }
   ],
   "source": [
    "sns.distplot(df[\"bmi\"])"
   ]
  },
  {
   "cell_type": "code",
   "execution_count": 20,
   "id": "eeb80365",
   "metadata": {},
   "outputs": [
    {
     "name": "stderr",
     "output_type": "stream",
     "text": [
      "C:\\Users\\shail\\anaconda3\\lib\\site-packages\\seaborn\\_decorators.py:36: FutureWarning: Pass the following variable as a keyword arg: x. From version 0.12, the only valid positional argument will be `data`, and passing other arguments without an explicit keyword will result in an error or misinterpretation.\n",
      "  warnings.warn(\n"
     ]
    },
    {
     "data": {
      "text/plain": [
       "<AxesSubplot:xlabel='children', ylabel='count'>"
      ]
     },
     "execution_count": 20,
     "metadata": {},
     "output_type": "execute_result"
    },
    {
     "data": {
      "image/png": "[encoded data removed]",
      "text/plain": [
       "<Figure size 432x288 with 1 Axes>"
      ]
     },
     "metadata": {
      "needs_background": "light"
     },
     "output_type": "display_data"
    }
   ],
   "source": [
    "sns.countplot(df[\"children\"])"
   ]
  },
  {
   "cell_type": "code",
   "execution_count": 21,
   "id": "18cfd837",
   "metadata": {},
   "outputs": [
    {
     "name": "stderr",
     "output_type": "stream",
     "text": [
      "C:\\Users\\shail\\anaconda3\\lib\\site-packages\\seaborn\\_decorators.py:36: FutureWarning: Pass the following variable as a keyword arg: x. From version 0.12, the only valid positional argument will be `data`, and passing other arguments without an explicit keyword will result in an error or misinterpretation.\n",
      "  warnings.warn(\n"
     ]
    },
    {
     "data": {
      "text/plain": [
       "<AxesSubplot:xlabel='region', ylabel='count'>"
      ]
     },
     "execution_count": 21,
     "metadata": {},
     "output_type": "execute_result"
    },
    {
     "data": {
      "image/png": "[encoded data removed]",
      "text/plain": [
       "<Figure size 432x288 with 1 Axes>"
      ]
     },
     "metadata": {
      "needs_background": "light"
     },
     "output_type": "display_data"
    }
   ],
   "source": [
    "sns.countplot(df[\"region\"])"
   ]
  },
  {
   "cell_type": "code",
   "execution_count": 22,
   "id": "41818048",
   "metadata": {},
   "outputs": [
    {
     "data": {
      "text/plain": [
       "<AxesSubplot:ylabel='region'>"
      ]
     },
     "execution_count": 22,
     "metadata": {},
     "output_type": "execute_result"
    },
    {
     "data": {
      "image/png": "[encoded data removed]",
      "text/plain": [
       "<Figure size 432x288 with 1 Axes>"
      ]
     },
     "metadata": {},
     "output_type": "display_data"
    }
   ],
   "source": [
    "df[\"region\"].value_counts().plot(kind=\"pie\" , autopct=\"%2f\")"
   ]
  },
  {
   "cell_type": "code",
   "execution_count": 23,
   "id": "d6df5902",
   "metadata": {},
   "outputs": [
    {
     "data": {
      "text/plain": [
       "southeast    364\n",
       "southwest    325\n",
       "northwest    325\n",
       "northeast    324\n",
       "Name: region, dtype: int64"
      ]
     },
     "execution_count": 23,
     "metadata": {},
     "output_type": "execute_result"
    }
   ],
   "source": [
    "df[\"region\"].value_counts()"
   ]
  },
  {
   "cell_type": "code",
   "execution_count": 24,
   "id": "ce4314b8",
   "metadata": {},
   "outputs": [
    {
     "name": "stderr",
     "output_type": "stream",
     "text": [
      "C:\\Users\\shail\\anaconda3\\lib\\site-packages\\seaborn\\_decorators.py:36: FutureWarning: Pass the following variable as a keyword arg: x. From version 0.12, the only valid positional argument will be `data`, and passing other arguments without an explicit keyword will result in an error or misinterpretation.\n",
      "  warnings.warn(\n"
     ]
    },
    {
     "data": {
      "text/plain": [
       "<AxesSubplot:xlabel='smoker', ylabel='count'>"
      ]
     },
     "execution_count": 24,
     "metadata": {},
     "output_type": "execute_result"
    },
    {
     "data": {
      "image/png": "[encoded data removed]",
      "text/plain": [
       "<Figure size 432x288 with 1 Axes>"
      ]
     },
     "metadata": {
      "needs_background": "light"
     },
     "output_type": "display_data"
    }
   ],
   "source": [
    "sns.countplot(df[\"smoker\"])"
   ]
  },
  {
   "cell_type": "code",
   "execution_count": 25,
   "id": "3b4fc259",
   "metadata": {},
   "outputs": [],
   "source": [
    "label = LabelEncoder()\n",
    "df[\"sex\"] = label.fit_transform(df[\"sex\"])\n",
    "df[\"smoker\"] = label.fit_transform(df[\"smoker\"])"
   ]
  },
  {
   "cell_type": "code",
   "execution_count": 26,
   "id": "c8ff512c",
   "metadata": {},
   "outputs": [
    {
     "data": {
      "text/html": [
       "<div>\n",
       "<style scoped>\n",
       "    .dataframe tbody tr th:only-of-type {\n",
       "        vertical-align: middle;\n",
       "    }\n",
       "\n",
       "    .dataframe tbody tr th {\n",
       "        vertical-align: top;\n",
       "    }\n",
       "\n",
       "    .dataframe thead th {\n",
       "        text-align: right;\n",
       "    }\n",
       "</style>\n",
       "<table border=\"1\" class=\"dataframe\">\n",
       "  <thead>\n",
       "    <tr style=\"text-align: right;\">\n",
       "      <th></th>\n",
       "      <th>age</th>\n",
       "      <th>sex</th>\n",
       "      <th>bmi</th>\n",
       "      <th>children</th>\n",
       "      <th>smoker</th>\n",
       "      <th>region</th>\n",
       "      <th>expenses</th>\n",
       "    </tr>\n",
       "  </thead>\n",
       "  <tbody>\n",
       "    <tr>\n",
       "      <th>0</th>\n",
       "      <td>19</td>\n",
       "      <td>0</td>\n",
       "      <td>27.9</td>\n",
       "      <td>0</td>\n",
       "      <td>1</td>\n",
       "      <td>southwest</td>\n",
       "      <td>16884.92</td>\n",
       "    </tr>\n",
       "    <tr>\n",
       "      <th>1</th>\n",
       "      <td>18</td>\n",
       "      <td>1</td>\n",
       "      <td>33.8</td>\n",
       "      <td>1</td>\n",
       "      <td>0</td>\n",
       "      <td>southeast</td>\n",
       "      <td>1725.55</td>\n",
       "    </tr>\n",
       "    <tr>\n",
       "      <th>2</th>\n",
       "      <td>28</td>\n",
       "      <td>1</td>\n",
       "      <td>33.0</td>\n",
       "      <td>3</td>\n",
       "      <td>0</td>\n",
       "      <td>southeast</td>\n",
       "      <td>4449.46</td>\n",
       "    </tr>\n",
       "    <tr>\n",
       "      <th>3</th>\n",
       "      <td>33</td>\n",
       "      <td>1</td>\n",
       "      <td>22.7</td>\n",
       "      <td>0</td>\n",
       "      <td>0</td>\n",
       "      <td>northwest</td>\n",
       "      <td>21984.47</td>\n",
       "    </tr>\n",
       "    <tr>\n",
       "      <th>4</th>\n",
       "      <td>32</td>\n",
       "      <td>1</td>\n",
       "      <td>28.9</td>\n",
       "      <td>0</td>\n",
       "      <td>0</td>\n",
       "      <td>northwest</td>\n",
       "      <td>3866.86</td>\n",
       "    </tr>\n",
       "  </tbody>\n",
       "</table>\n",
       "</div>"
      ],
      "text/plain": [
       "   age  sex   bmi  children  smoker     region  expenses\n",
       "0   19    0  27.9         0       1  southwest  16884.92\n",
       "1   18    1  33.8         1       0  southeast   1725.55\n",
       "2   28    1  33.0         3       0  southeast   4449.46\n",
       "3   33    1  22.7         0       0  northwest  21984.47\n",
       "4   32    1  28.9         0       0  northwest   3866.86"
      ]
     },
     "execution_count": 26,
     "metadata": {},
     "output_type": "execute_result"
    }
   ],
   "source": [
    "df.head()"
   ]
  },
  {
   "cell_type": "code",
   "execution_count": 27,
   "id": "1ac94fef",
   "metadata": {},
   "outputs": [],
   "source": [
    "region = pd.get_dummies(df[\"region\"], drop_first=True)"
   ]
  },
  {
   "cell_type": "code",
   "execution_count": 28,
   "id": "01a0e66d",
   "metadata": {},
   "outputs": [],
   "source": [
    "data = pd.concat([df, region], axis=1)"
   ]
  },
  {
   "cell_type": "code",
   "execution_count": 29,
   "id": "385fb4b9",
   "metadata": {},
   "outputs": [
    {
     "data": {
      "text/html": [
       "<div>\n",
       "<style scoped>\n",
       "    .dataframe tbody tr th:only-of-type {\n",
       "        vertical-align: middle;\n",
       "    }\n",
       "\n",
       "    .dataframe tbody tr th {\n",
       "        vertical-align: top;\n",
       "    }\n",
       "\n",
       "    .dataframe thead th {\n",
       "        text-align: right;\n",
       "    }\n",
       "</style>\n",
       "<table border=\"1\" class=\"dataframe\">\n",
       "  <thead>\n",
       "    <tr style=\"text-align: right;\">\n",
       "      <th></th>\n",
       "      <th>age</th>\n",
       "      <th>sex</th>\n",
       "      <th>bmi</th>\n",
       "      <th>children</th>\n",
       "      <th>smoker</th>\n",
       "      <th>region</th>\n",
       "      <th>expenses</th>\n",
       "      <th>northwest</th>\n",
       "      <th>southeast</th>\n",
       "      <th>southwest</th>\n",
       "    </tr>\n",
       "  </thead>\n",
       "  <tbody>\n",
       "    <tr>\n",
       "      <th>0</th>\n",
       "      <td>19</td>\n",
       "      <td>0</td>\n",
       "      <td>27.9</td>\n",
       "      <td>0</td>\n",
       "      <td>1</td>\n",
       "      <td>southwest</td>\n",
       "      <td>16884.92</td>\n",
       "      <td>0</td>\n",
       "      <td>0</td>\n",
       "      <td>1</td>\n",
       "    </tr>\n",
       "    <tr>\n",
       "      <th>1</th>\n",
       "      <td>18</td>\n",
       "      <td>1</td>\n",
       "      <td>33.8</td>\n",
       "      <td>1</td>\n",
       "      <td>0</td>\n",
       "      <td>southeast</td>\n",
       "      <td>1725.55</td>\n",
       "      <td>0</td>\n",
       "      <td>1</td>\n",
       "      <td>0</td>\n",
       "    </tr>\n",
       "    <tr>\n",
       "      <th>2</th>\n",
       "      <td>28</td>\n",
       "      <td>1</td>\n",
       "      <td>33.0</td>\n",
       "      <td>3</td>\n",
       "      <td>0</td>\n",
       "      <td>southeast</td>\n",
       "      <td>4449.46</td>\n",
       "      <td>0</td>\n",
       "      <td>1</td>\n",
       "      <td>0</td>\n",
       "    </tr>\n",
       "    <tr>\n",
       "      <th>3</th>\n",
       "      <td>33</td>\n",
       "      <td>1</td>\n",
       "      <td>22.7</td>\n",
       "      <td>0</td>\n",
       "      <td>0</td>\n",
       "      <td>northwest</td>\n",
       "      <td>21984.47</td>\n",
       "      <td>1</td>\n",
       "      <td>0</td>\n",
       "      <td>0</td>\n",
       "    </tr>\n",
       "    <tr>\n",
       "      <th>4</th>\n",
       "      <td>32</td>\n",
       "      <td>1</td>\n",
       "      <td>28.9</td>\n",
       "      <td>0</td>\n",
       "      <td>0</td>\n",
       "      <td>northwest</td>\n",
       "      <td>3866.86</td>\n",
       "      <td>1</td>\n",
       "      <td>0</td>\n",
       "      <td>0</td>\n",
       "    </tr>\n",
       "  </tbody>\n",
       "</table>\n",
       "</div>"
      ],
      "text/plain": [
       "   age  sex   bmi  children  smoker     region  expenses  northwest  \\\n",
       "0   19    0  27.9         0       1  southwest  16884.92          0   \n",
       "1   18    1  33.8         1       0  southeast   1725.55          0   \n",
       "2   28    1  33.0         3       0  southeast   4449.46          0   \n",
       "3   33    1  22.7         0       0  northwest  21984.47          1   \n",
       "4   32    1  28.9         0       0  northwest   3866.86          1   \n",
       "\n",
       "   southeast  southwest  \n",
       "0          0          1  \n",
       "1          1          0  \n",
       "2          1          0  \n",
       "3          0          0  \n",
       "4          0          0  "
      ]
     },
     "execution_count": 29,
     "metadata": {},
     "output_type": "execute_result"
    }
   ],
   "source": [
    "data.head()"
   ]
  },
  {
   "cell_type": "code",
   "execution_count": 30,
   "id": "adc1c6b5",
   "metadata": {},
   "outputs": [],
   "source": [
    "data.drop([\"region\"], axis=1, inplace=True)"
   ]
  },
  {
   "cell_type": "code",
   "execution_count": 31,
   "id": "902c06df",
   "metadata": {},
   "outputs": [
    {
     "data": {
      "text/html": [
       "<div>\n",
       "<style scoped>\n",
       "    .dataframe tbody tr th:only-of-type {\n",
       "        vertical-align: middle;\n",
       "    }\n",
       "\n",
       "    .dataframe tbody tr th {\n",
       "        vertical-align: top;\n",
       "    }\n",
       "\n",
       "    .dataframe thead th {\n",
       "        text-align: right;\n",
       "    }\n",
       "</style>\n",
       "<table border=\"1\" class=\"dataframe\">\n",
       "  <thead>\n",
       "    <tr style=\"text-align: right;\">\n",
       "      <th></th>\n",
       "      <th>age</th>\n",
       "      <th>sex</th>\n",
       "      <th>bmi</th>\n",
       "      <th>children</th>\n",
       "      <th>smoker</th>\n",
       "      <th>expenses</th>\n",
       "      <th>northwest</th>\n",
       "      <th>southeast</th>\n",
       "      <th>southwest</th>\n",
       "    </tr>\n",
       "  </thead>\n",
       "  <tbody>\n",
       "    <tr>\n",
       "      <th>0</th>\n",
       "      <td>19</td>\n",
       "      <td>0</td>\n",
       "      <td>27.9</td>\n",
       "      <td>0</td>\n",
       "      <td>1</td>\n",
       "      <td>16884.92</td>\n",
       "      <td>0</td>\n",
       "      <td>0</td>\n",
       "      <td>1</td>\n",
       "    </tr>\n",
       "    <tr>\n",
       "      <th>1</th>\n",
       "      <td>18</td>\n",
       "      <td>1</td>\n",
       "      <td>33.8</td>\n",
       "      <td>1</td>\n",
       "      <td>0</td>\n",
       "      <td>1725.55</td>\n",
       "      <td>0</td>\n",
       "      <td>1</td>\n",
       "      <td>0</td>\n",
       "    </tr>\n",
       "    <tr>\n",
       "      <th>2</th>\n",
       "      <td>28</td>\n",
       "      <td>1</td>\n",
       "      <td>33.0</td>\n",
       "      <td>3</td>\n",
       "      <td>0</td>\n",
       "      <td>4449.46</td>\n",
       "      <td>0</td>\n",
       "      <td>1</td>\n",
       "      <td>0</td>\n",
       "    </tr>\n",
       "    <tr>\n",
       "      <th>3</th>\n",
       "      <td>33</td>\n",
       "      <td>1</td>\n",
       "      <td>22.7</td>\n",
       "      <td>0</td>\n",
       "      <td>0</td>\n",
       "      <td>21984.47</td>\n",
       "      <td>1</td>\n",
       "      <td>0</td>\n",
       "      <td>0</td>\n",
       "    </tr>\n",
       "    <tr>\n",
       "      <th>4</th>\n",
       "      <td>32</td>\n",
       "      <td>1</td>\n",
       "      <td>28.9</td>\n",
       "      <td>0</td>\n",
       "      <td>0</td>\n",
       "      <td>3866.86</td>\n",
       "      <td>1</td>\n",
       "      <td>0</td>\n",
       "      <td>0</td>\n",
       "    </tr>\n",
       "  </tbody>\n",
       "</table>\n",
       "</div>"
      ],
      "text/plain": [
       "   age  sex   bmi  children  smoker  expenses  northwest  southeast  southwest\n",
       "0   19    0  27.9         0       1  16884.92          0          0          1\n",
       "1   18    1  33.8         1       0   1725.55          0          1          0\n",
       "2   28    1  33.0         3       0   4449.46          0          1          0\n",
       "3   33    1  22.7         0       0  21984.47          1          0          0\n",
       "4   32    1  28.9         0       0   3866.86          1          0          0"
      ]
     },
     "execution_count": 31,
     "metadata": {},
     "output_type": "execute_result"
    }
   ],
   "source": [
    "data.head()"
   ]
  },
  {
   "cell_type": "code",
   "execution_count": 32,
   "id": "c27341a5",
   "metadata": {},
   "outputs": [],
   "source": [
    "x = data.drop(\"expenses\", axis=1)"
   ]
  },
  {
   "cell_type": "code",
   "execution_count": 33,
   "id": "b5e2722d",
   "metadata": {},
   "outputs": [],
   "source": [
    "y = data[\"expenses\"]"
   ]
  },
  {
   "cell_type": "code",
   "execution_count": 34,
   "id": "90d2bdda",
   "metadata": {},
   "outputs": [
    {
     "data": {
      "text/html": [
       "<div>\n",
       "<style scoped>\n",
       "    .dataframe tbody tr th:only-of-type {\n",
       "        vertical-align: middle;\n",
       "    }\n",
       "\n",
       "    .dataframe tbody tr th {\n",
       "        vertical-align: top;\n",
       "    }\n",
       "\n",
       "    .dataframe thead th {\n",
       "        text-align: right;\n",
       "    }\n",
       "</style>\n",
       "<table border=\"1\" class=\"dataframe\">\n",
       "  <thead>\n",
       "    <tr style=\"text-align: right;\">\n",
       "      <th></th>\n",
       "      <th>age</th>\n",
       "      <th>sex</th>\n",
       "      <th>bmi</th>\n",
       "      <th>children</th>\n",
       "      <th>smoker</th>\n",
       "      <th>northwest</th>\n",
       "      <th>southeast</th>\n",
       "      <th>southwest</th>\n",
       "    </tr>\n",
       "  </thead>\n",
       "  <tbody>\n",
       "    <tr>\n",
       "      <th>0</th>\n",
       "      <td>19</td>\n",
       "      <td>0</td>\n",
       "      <td>27.9</td>\n",
       "      <td>0</td>\n",
       "      <td>1</td>\n",
       "      <td>0</td>\n",
       "      <td>0</td>\n",
       "      <td>1</td>\n",
       "    </tr>\n",
       "    <tr>\n",
       "      <th>1</th>\n",
       "      <td>18</td>\n",
       "      <td>1</td>\n",
       "      <td>33.8</td>\n",
       "      <td>1</td>\n",
       "      <td>0</td>\n",
       "      <td>0</td>\n",
       "      <td>1</td>\n",
       "      <td>0</td>\n",
       "    </tr>\n",
       "    <tr>\n",
       "      <th>2</th>\n",
       "      <td>28</td>\n",
       "      <td>1</td>\n",
       "      <td>33.0</td>\n",
       "      <td>3</td>\n",
       "      <td>0</td>\n",
       "      <td>0</td>\n",
       "      <td>1</td>\n",
       "      <td>0</td>\n",
       "    </tr>\n",
       "    <tr>\n",
       "      <th>3</th>\n",
       "      <td>33</td>\n",
       "      <td>1</td>\n",
       "      <td>22.7</td>\n",
       "      <td>0</td>\n",
       "      <td>0</td>\n",
       "      <td>1</td>\n",
       "      <td>0</td>\n",
       "      <td>0</td>\n",
       "    </tr>\n",
       "    <tr>\n",
       "      <th>4</th>\n",
       "      <td>32</td>\n",
       "      <td>1</td>\n",
       "      <td>28.9</td>\n",
       "      <td>0</td>\n",
       "      <td>0</td>\n",
       "      <td>1</td>\n",
       "      <td>0</td>\n",
       "      <td>0</td>\n",
       "    </tr>\n",
       "  </tbody>\n",
       "</table>\n",
       "</div>"
      ],
      "text/plain": [
       "   age  sex   bmi  children  smoker  northwest  southeast  southwest\n",
       "0   19    0  27.9         0       1          0          0          1\n",
       "1   18    1  33.8         1       0          0          1          0\n",
       "2   28    1  33.0         3       0          0          1          0\n",
       "3   33    1  22.7         0       0          1          0          0\n",
       "4   32    1  28.9         0       0          1          0          0"
      ]
     },
     "execution_count": 34,
     "metadata": {},
     "output_type": "execute_result"
    }
   ],
   "source": [
    "x.head()"
   ]
  },
  {
   "cell_type": "code",
   "execution_count": 35,
   "id": "fb8f7e5f",
   "metadata": {},
   "outputs": [
    {
     "data": {
      "text/plain": [
       "0       16884.92\n",
       "1        1725.55\n",
       "2        4449.46\n",
       "3       21984.47\n",
       "4        3866.86\n",
       "          ...   \n",
       "1333    10600.55\n",
       "1334     2205.98\n",
       "1335     1629.83\n",
       "1336     2007.95\n",
       "1337    29141.36\n",
       "Name: expenses, Length: 1338, dtype: float64"
      ]
     },
     "execution_count": 35,
     "metadata": {},
     "output_type": "execute_result"
    }
   ],
   "source": [
    "y"
   ]
  },
  {
   "cell_type": "code",
   "execution_count": 36,
   "id": "56f24192",
   "metadata": {},
   "outputs": [],
   "source": [
    "x_train , x_test , y_train , y_test = train_test_split(x, y , random_state=42)"
   ]
  },
  {
   "cell_type": "code",
   "execution_count": 37,
   "id": "edd2f808",
   "metadata": {},
   "outputs": [
    {
     "data": {
      "text/plain": [
       "1003"
      ]
     },
     "execution_count": 37,
     "metadata": {},
     "output_type": "execute_result"
    }
   ],
   "source": [
    "len(x_train)"
   ]
  },
  {
   "cell_type": "code",
   "execution_count": 38,
   "id": "84e5f4ee",
   "metadata": {},
   "outputs": [
    {
     "data": {
      "text/plain": [
       "335"
      ]
     },
     "execution_count": 38,
     "metadata": {},
     "output_type": "execute_result"
    }
   ],
   "source": [
    "len(x_test)"
   ]
  },
  {
   "cell_type": "code",
   "execution_count": 39,
   "id": "63ac8e7b",
   "metadata": {},
   "outputs": [],
   "source": [
    "lin_reg = LinearRegression()"
   ]
  },
  {
   "cell_type": "code",
   "execution_count": 40,
   "id": "e6dc1422",
   "metadata": {},
   "outputs": [
    {
     "data": {
      "text/plain": [
       "LinearRegression()"
      ]
     },
     "execution_count": 40,
     "metadata": {},
     "output_type": "execute_result"
    }
   ],
   "source": [
    "lin_reg.fit(x_train , y_train)"
   ]
  },
  {
   "cell_type": "code",
   "execution_count": 41,
   "id": "525928ac",
   "metadata": {},
   "outputs": [
    {
     "data": {
      "text/plain": [
       "array([0.76148215, 0.70650918, 0.7780752 , 0.73273236, 0.75559751])"
      ]
     },
     "execution_count": 41,
     "metadata": {},
     "output_type": "execute_result"
    }
   ],
   "source": [
    "score = cross_val_score(lin_reg, x, y, scoring=None , cv=5 )\n",
    "score"
   ]
  },
  {
   "cell_type": "code",
   "execution_count": 42,
   "id": "bdeec749",
   "metadata": {},
   "outputs": [
    {
     "data": {
      "text/plain": [
       "0.746879280539993"
      ]
     },
     "execution_count": 42,
     "metadata": {},
     "output_type": "execute_result"
    }
   ],
   "source": [
    "score.mean()"
   ]
  },
  {
   "cell_type": "code",
   "execution_count": 43,
   "id": "a1c6b69c",
   "metadata": {},
   "outputs": [],
   "source": [
    "y_pred1 = lin_reg.predict(x_test)"
   ]
  },
  {
   "cell_type": "code",
   "execution_count": 44,
   "id": "4c8c3140",
   "metadata": {},
   "outputs": [
    {
     "data": {
      "text/plain": [
       "array([ 8959.6084306 ,  7046.45362801, 36891.48904809,  9506.90730857,\n",
       "       26954.19089842, 10879.74213737,    83.72319655, 17046.37987336,\n",
       "        1007.26095132, 11305.48481656, 28036.21861587,  9447.62841339,\n",
       "        5092.95931077, 38386.14928012, 40230.32637772, 37029.22472316,\n",
       "       15164.87588709, 35775.06231692,  8996.43931864, 31439.69748057,\n",
       "        3792.14320072, 10141.90726745,  2309.8212006 ,  7097.73227673,\n",
       "       11315.61512709, 12991.81552164, 14505.87498443,  6126.41375662,\n",
       "        9954.71007435,  2025.92092508,  9049.47632417, 13110.09528025,\n",
       "        4390.81973429,  3370.10730059,  4417.94355211, 13114.27087227,\n",
       "        1850.66898786,  8751.77817571, 33251.23796365, 32489.0073563 ,\n",
       "        3786.56823819,  4360.16328021, 14132.20537616, 11533.36701176,\n",
       "        8711.23338962, 12135.25280246,  5229.66732583,  3028.9307404 ,\n",
       "       35431.85494545,  9075.7986008 , 15770.28626856,  2214.80440663,\n",
       "       12386.76583478,  1447.96559303, 13352.70944012, 12648.60815017,\n",
       "        4359.32503195, 32199.76769339, 13306.82331244, 12936.15642762,\n",
       "       14162.9771959 , 10368.26924959, 16431.40514741,  7758.17515525,\n",
       "       11860.7471924 ,  4002.74730477, 26568.45342452, 10875.41478469,\n",
       "        2068.20311129,  6181.89066236, 10806.05707051, 11632.62622036,\n",
       "       10856.39929342,  9079.17962514, 11921.91699494,  6585.37299957,\n",
       "        7274.38187615, 10776.99420422,  6415.89219636,  8696.99658488,\n",
       "        3632.87265355, 36704.43881013,  6288.91134061, 30786.97175803,\n",
       "       34769.03046356, 35322.70458301,  6931.58100632, 12976.32253296,\n",
       "        9955.30954579, 14524.49052617, 17757.88911622, 35138.72490747,\n",
       "       32987.64834561,  6186.40961537, 31914.13001775,  9486.72233743,\n",
       "       29309.09557073,  3485.36885593, 28257.52095069,  5785.65879462,\n",
       "        5371.75733362,  1754.41734651, 11464.0812172 , 15133.35953609,\n",
       "       11795.35773738,  4186.32134628,  9833.35849448, 31614.72824723,\n",
       "        -115.65129014, 32675.85807236,  3227.59632768, 10104.25318956,\n",
       "       14355.10217773, 31584.24669584, 11474.75333539,  3880.03895973,\n",
       "       13201.34051241, 31720.59168222,  8004.55752651,  3260.10554755,\n",
       "        8430.40828578, 10671.32858282, 15263.77290771,  5555.09259831,\n",
       "        3715.74738709, 10251.89141422, 10766.98730485, 11180.36540516,\n",
       "       14357.9413944 ,  7334.98375844,  5207.01979679,  9147.40174471,\n",
       "        9218.91452203, 12558.86701818,  8272.27497533, 15398.45325429,\n",
       "        8435.34452195, 31774.58613645, 35812.298839  , 31562.34049636,\n",
       "        5992.71181544, 12620.88821133,  5904.35248597, 14603.22529954,\n",
       "        2347.5512405 , 32949.86681419,  6317.01362271,  4937.71015641,\n",
       "       14396.53297333,  6924.38400935, 38715.43138401,  3025.6932825 ,\n",
       "        5765.00477614, 31688.41564816, 11595.61421927,  8524.99528734,\n",
       "       14910.267255  ,  9697.94016876, 26889.47321433, 33493.35525528,\n",
       "       14577.97733065,  1598.28186165, 13214.28183884,  2202.14446238,\n",
       "        5410.54167472, 11523.59888921, 39798.20761621, 36535.8670613 ,\n",
       "       34055.9083451 ,  3787.95547931,  7386.14917119,  8597.12514237,\n",
       "       12542.37460852,  4827.10345505,  1921.39462858, 32013.52390661,\n",
       "       25021.76788281, 17503.074372  , 26344.40540303, 10186.81154215,\n",
       "       37258.43586263,  -553.13608023,  6839.37411474,  7706.97958753,\n",
       "        4360.44131197,  5052.86931617,  5920.19961715,  4202.21763492,\n",
       "       15102.61591711, 11208.75562155,  6906.17521515,  2456.17862211,\n",
       "        1455.11482876, 31914.01145039, 16405.99771412, 11907.16003119,\n",
       "        1190.38180517, 12553.78237178,  1470.42015228,  8680.57498134,\n",
       "        1799.01203827, 33991.6667213 , 10787.70641819,  2614.50256828,\n",
       "       25434.43222124, 26145.03746845,  9502.80995375,  1735.12605034,\n",
       "       13247.35340167,   985.57188001, 10413.76303432, 10458.48113723,\n",
       "       17003.31029734, 26712.76557127,  6857.39673715,  5129.59636141,\n",
       "        5689.50407197, 13123.03325626, 10980.44167973,  8214.23092752,\n",
       "        5089.84206234, 12398.06417007, 13813.60389677, 35718.85486312,\n",
       "        4171.27979867, 28795.60069897, -1066.89137747,  2882.57736128,\n",
       "       10985.85546955, 15610.62619293,  5116.18194525,  6895.58156854,\n",
       "        3742.51706241, 31286.3784885 ,  7223.17403355, 12385.23736861,\n",
       "        5655.46659356,  9538.52285346, 36195.52539895,  4322.04925494,\n",
       "        9654.66957747, 31122.85983488,  5720.37849492,  4416.1069581 ,\n",
       "        1047.02710712,  4869.79957399,  4468.66640997,  6485.47335629,\n",
       "       18617.83732366, -1570.33158862,  2251.96816838, 10707.6802089 ,\n",
       "        3037.1576343 , 10201.51739424,  3671.77381542,  4938.30627742,\n",
       "       12443.92014279,  6248.3915536 ,  8272.14821375,  7553.46448286,\n",
       "        8923.4739327 , 10511.42293237, 27686.19979237, 39037.63680486,\n",
       "       11806.08751935,  7712.81497555, 40836.60149991, 12290.29302287,\n",
       "        7097.02807564,  8319.25127044,  9039.53538712, 10993.95981259,\n",
       "       10110.6013055 , 17583.38196347,   969.62783013, 23548.06219052,\n",
       "       12718.93384134, 33190.41128771,  5197.67007075, 13139.65501478,\n",
       "       10387.38054606, 17831.35705491,  9889.77652434, 11474.3268934 ,\n",
       "       32226.29859188,  3299.22112025, 13557.68538179, 39313.0288043 ,\n",
       "        5499.97531195,  6139.81566352,  3373.95374919, 11393.15940501,\n",
       "       25468.96570028, 14172.74876603,  9197.97619234, 10080.06889566,\n",
       "       13442.83775918,   905.26428854,  2338.99520317, 30646.45627664,\n",
       "       29969.64652933, 13532.08857503,  3690.6989401 , 25375.50746856,\n",
       "       13387.57861469, 30606.50245568,  3451.28026586, 38889.34587065,\n",
       "       11112.3178084 ,  4767.70919419,  6780.73878972,  2418.75443487,\n",
       "       25860.49526488, 14379.25147287,   502.53924506, 12767.05392529,\n",
       "       12617.21691863, 14967.31295706, 34949.60944709, 14383.96994778,\n",
       "       31506.39113398, 10003.98542059, 18208.31523275,  5932.26344039,\n",
       "        8860.47263315,  9335.45032842, 15229.72974481,  9057.31603101,\n",
       "        8386.43471411, 15042.59249067, 12815.89501518, 14823.5975644 ,\n",
       "        7446.58332867, 25983.23519938,  9186.63923519])"
      ]
     },
     "execution_count": 44,
     "metadata": {},
     "output_type": "execute_result"
    }
   ],
   "source": [
    "y_pred1"
   ]
  },
  {
   "cell_type": "code",
   "execution_count": 45,
   "id": "373a520f",
   "metadata": {},
   "outputs": [
    {
     "name": "stdout",
     "output_type": "stream",
     "text": [
      "MSE : 35116554.28433196\n",
      "MAE : 4243.465741508583\n",
      "R score : 0.6843648738685674\n"
     ]
    }
   ],
   "source": [
    "print(\"MSE :\", mean_squared_error(y_pred1 , y_test))\n",
    "print(\"MAE :\" , mean_absolute_error(y_pred1, y_test))\n",
    "print(\"R score :\", r2_score(y_pred1, y_test))"
   ]
  },
  {
   "cell_type": "markdown",
   "id": "99684f19",
   "metadata": {},
   "source": [
    "# Decision Tree"
   ]
  },
  {
   "cell_type": "code",
   "execution_count": 46,
   "id": "d25c3b07",
   "metadata": {},
   "outputs": [],
   "source": [
    "ds_tree = DecisionTreeRegressor()\n",
    "ds_tree.fit(x_train , y_train)\n",
    "y_pred2 = ds_tree.predict(x_test)"
   ]
  },
  {
   "cell_type": "code",
   "execution_count": 47,
   "id": "057e5c22",
   "metadata": {},
   "outputs": [
    {
     "data": {
      "text/plain": [
       "array([ 9447.25,  4571.41, 28950.47, 30284.64, 33732.69, 11326.71,\n",
       "        1737.38, 14692.67,  2974.13, 10702.64, 19362.  ,  6600.36,\n",
       "        4040.56, 46200.99, 48970.25, 48885.14,  9549.57, 41676.08,\n",
       "        8703.46, 21348.71,  5615.37,  7740.34,  2128.43,  2166.73,\n",
       "       10702.64, 10435.07, 13228.85, 18157.88,  9447.25, 11774.16,\n",
       "        7243.81, 12231.61,  2020.18,  4906.41,  3490.55,  8342.91,\n",
       "        2585.27,  6849.03, 22218.11, 37742.58,  4915.06,  2639.04,\n",
       "       11394.07, 12323.94,  4673.39, 12913.99,  4830.63,  3906.13,\n",
       "       40273.65,  4673.39, 13887.97,  2801.26,  6393.6 ,  1708.  ,\n",
       "       10976.25, 10600.55,  3268.85, 39983.43, 12430.95, 29186.48,\n",
       "       13393.76,  4949.76, 31620.  ,  7729.65,  8280.62,  4337.74,\n",
       "       21472.48,  7742.11,  2842.76,  1263.25,  5488.26,  8240.59,\n",
       "        9722.77, 23563.02,  8023.14,  4399.73,  4827.9 , 12629.17,\n",
       "        3981.98,  9447.25,  1532.47, 28950.47,  5375.04, 37465.34,\n",
       "       40904.2 , 41919.1 ,  5428.73, 10976.25,  8219.2 , 11253.42,\n",
       "       14418.28, 25678.78, 38245.59,  4673.39, 51194.56,  6986.7 ,\n",
       "       19350.37,  1880.49, 17361.77,  6686.43,  4151.03,  1744.47,\n",
       "        6474.01, 13430.27, 13616.36,  1725.55,  8413.46, 22412.65,\n",
       "        1704.57, 22218.11,  1261.44,  3490.55, 12430.95, 37079.37,\n",
       "        9290.14, 26018.95, 13041.92, 21348.71,  5584.31, 12609.89,\n",
       "        5002.78,  7160.09,  9875.68,  2473.33,  5257.51,  6986.7 ,\n",
       "       18806.15,  9290.14, 21797.  ,  1824.29,  4347.02,  6184.3 ,\n",
       "        5584.31,  8342.91,  5662.23, 28287.9 ,  3857.76, 38998.55,\n",
       "       48885.14, 40003.33,  4571.41,  9140.95,  2498.41, 11033.66,\n",
       "        2464.62, 24106.91,  5312.17,  3989.84, 10848.13,  4746.34,\n",
       "       60021.4 ,  3046.06,  1149.4 , 37079.37,  5976.83,  3857.76,\n",
       "       14043.48,  8823.28, 36021.01, 40103.89, 13224.06,  2709.24,\n",
       "       16455.71,  4185.1 ,  4466.62,  7160.33, 48517.56, 45710.21,\n",
       "       39727.61, 13126.68,  9855.13,  5976.83,  5438.75,  4243.59,\n",
       "        2156.75, 21098.55, 16884.92, 14313.85, 16776.3 , 11833.78,\n",
       "       28950.47,  2709.24,  8627.54,  5003.85,  4449.46,  2850.68,\n",
       "        4040.56,  3353.28,  8083.92, 10796.35,  4466.62,  2200.83,\n",
       "        2585.85, 39241.44, 12982.87,  9140.95,  2709.24, 11305.93,\n",
       "        2196.47,  9861.03,  3176.82, 24535.7 ,  4686.39,  2803.7 ,\n",
       "       17560.38, 17904.53, 30284.64, 18838.7 ,  9058.73,  3206.49,\n",
       "       13451.12, 12032.33,  8733.23, 17904.53,  7682.67,  3943.6 ,\n",
       "        4562.84, 14001.13, 24513.09,  5246.05,  2261.57,  8342.91,\n",
       "        5846.92, 48885.14,  2254.8 , 36197.7 ,  1728.9 ,  1639.56,\n",
       "        9964.06,  9549.57,  1532.47,  9264.8 ,  3987.93, 23568.27,\n",
       "        9264.8 ,  9058.73,  4058.71,  6571.02, 46200.99,  2254.8 ,\n",
       "       13012.21, 39241.44,  3385.4 ,  3392.37,  1632.56,  2897.32,\n",
       "        3987.93,  5148.55,  9875.68,  1625.43,  2457.21,  7418.52,\n",
       "        3172.02, 11833.78,  2709.24,  3227.12, 13041.92, 12609.89,\n",
       "        9361.33,  5428.73,  7418.52, 13616.36, 19350.37, 46599.11,\n",
       "       11073.18,  5488.26, 47462.89,  9880.07,  8627.54,  9447.25,\n",
       "       10106.13, 24671.66, 12094.48, 13981.85,  2156.75, 12829.46,\n",
       "        6600.21, 40103.89,  7228.22,  9058.73,  8280.62, 14410.93,\n",
       "        8444.47,  9174.14, 39983.43,  2727.4 ,  9875.68, 47462.89,\n",
       "        4151.03,  2523.17,  2207.7 , 11554.22, 16420.49, 28468.92,\n",
       "        8442.67, 10577.09,  8978.19,  3206.49,  2156.75, 39611.76,\n",
       "       37079.37,  5846.92,  2913.57, 15518.18, 12928.79, 51194.56,\n",
       "        1639.56, 46599.11,  5846.92,  1631.82,  5926.85,  2801.26,\n",
       "       14571.89, 13635.64,  1964.78, 12495.29, 10976.25, 12231.61,\n",
       "       40419.02, 12269.69, 35069.37,  8538.29, 15555.19,  4149.74,\n",
       "        8703.46,  8516.83, 14590.63, 11013.71,  3201.25, 10450.55,\n",
       "       13041.92, 11743.93,  4746.34, 33475.82,  6571.02])"
      ]
     },
     "execution_count": 47,
     "metadata": {},
     "output_type": "execute_result"
    }
   ],
   "source": [
    "y_pred2"
   ]
  },
  {
   "cell_type": "code",
   "execution_count": 48,
   "id": "125ef2fc",
   "metadata": {},
   "outputs": [
    {
     "name": "stdout",
     "output_type": "stream",
     "text": [
      "MSE : 35544299.778608955\n",
      "MAE : 2682.5399402985076\n",
      "R score : 0.7789075068949525\n"
     ]
    }
   ],
   "source": [
    "print(\"MSE :\", mean_squared_error(y_pred2 , y_test))\n",
    "print(\"MAE :\" , mean_absolute_error(y_pred2, y_test))\n",
    "print(\"R score :\", r2_score(y_pred2, y_test))"
   ]
  },
  {
   "cell_type": "markdown",
   "id": "078d7b8e",
   "metadata": {},
   "source": [
    "# Random Forest "
   ]
  },
  {
   "cell_type": "code",
   "execution_count": 49,
   "id": "65e2e7e5",
   "metadata": {},
   "outputs": [],
   "source": [
    "rf_reg = RandomForestRegressor()\n",
    "rf_reg.fit(x_train , y_train)\n",
    "y_pred3 = rf_reg.predict(x_test)"
   ]
  },
  {
   "cell_type": "code",
   "execution_count": 50,
   "id": "2067146a",
   "metadata": {},
   "outputs": [
    {
     "data": {
      "text/plain": [
       "array([ 9550.6213 ,  5403.6068 , 28418.3451 , 12420.8174 , 34552.1292 ,\n",
       "        7241.7374 ,  2100.8643 , 14369.1479 ,  7377.621  , 11496.3681 ,\n",
       "       19140.353  ,  7078.4763 ,  5062.4557 , 45835.5937 , 48221.272  ,\n",
       "       45656.9074 , 10383.6369 , 42730.9546 ,  9361.917  , 23703.2354 ,\n",
       "        8330.6059 ,  9297.2626 ,  1692.6468 ,  2221.3332 , 11472.3377 ,\n",
       "       11210.7499 , 13513.0169 ,  7727.0777 , 12602.3933 ,  6240.99875,\n",
       "        8206.2331 , 11821.171  ,  3902.5447 ,  5955.3279 ,  4407.7107 ,\n",
       "        9897.9343 ,  3648.8346 ,  8501.4612 , 24012.4844 , 39858.2761 ,\n",
       "        5728.0235 ,  3128.5976 , 13270.5692 , 14656.3949 ,  5820.1704 ,\n",
       "       16068.8042 , 19306.7966 , 10846.0911 , 42263.2154 ,  9217.6754 ,\n",
       "       14112.3004 ,  4037.4844 ,  7635.2491 ,  1723.6962 , 11637.6774 ,\n",
       "       10806.2676 ,  3311.3954 , 44768.3367 , 12082.0828 , 13594.0795 ,\n",
       "       13763.284  ,  8054.1812 , 23046.9739 ,  7808.8006 , 10643.5852 ,\n",
       "        6823.1055 , 19873.1406 , 13189.1414 ,  8112.5865 ,  2479.9539 ,\n",
       "        6726.3561 ,  9446.9835 , 11627.0627 , 11414.4781 ,  9249.1217 ,\n",
       "        5259.1444 ,  7030.8142 , 12558.5487 ,  4855.8208 ,  9638.0597 ,\n",
       "        2745.8703 , 27975.9174 ,  6822.0613 , 37915.1928 , 40663.1006 ,\n",
       "       41959.8035 ,  5921.6745 , 11388.2576 , 10745.0308 , 14646.572  ,\n",
       "       18429.9668 , 27372.9348 , 27162.5958 ,  5505.086  , 47304.8744 ,\n",
       "        6897.4759 , 20130.5301 ,  2620.5528 , 18720.4166 ,  7127.5972 ,\n",
       "        4581.0842 ,  2165.15018,  6559.5803 , 14730.2648 , 13609.0445 ,\n",
       "        9782.228  , 11244.7097 , 24089.1313 ,  1692.5563 , 24155.1822 ,\n",
       "        1331.2233 ,  3835.0186 , 12564.7305 , 41267.2992 , 10138.9071 ,\n",
       "        4433.3203 , 12594.8381 , 24754.7492 ,  7044.0081 ,  6324.8208 ,\n",
       "        5796.7895 ,  8758.3562 , 12728.1394 ,  2167.051  ,  9158.2643 ,\n",
       "        7468.0756 , 13780.2727 ,  9964.614  , 14920.0428 ,  2022.3036 ,\n",
       "        4254.8889 ,  6709.5307 ,  6841.5838 , 10976.2222 ,  6061.9442 ,\n",
       "       24844.4478 ,  5820.7615 , 38359.0266 , 47007.9242 , 40192.4392 ,\n",
       "        5194.1253 , 11424.0594 ,  2868.2714 , 15944.3032 ,  2707.7775 ,\n",
       "       24100.7311 ,  6341.4274 ,  4505.8476 , 11852.003  ,  5299.8665 ,\n",
       "       50221.7659 ,  6486.9428 ,  1558.603  , 45402.6118 ,  7428.0392 ,\n",
       "        4738.6212 , 13511.287  , 10375.5674 , 35787.3882 , 39971.5869 ,\n",
       "       14737.1478 ,  4287.283  , 21011.6963 ,  3695.1792 ,  5889.5032 ,\n",
       "        9019.5366 , 48354.4499 , 44728.6667 , 40182.3411 ,  6667.81   ,\n",
       "       11463.1836 ,  6465.1662 ,  6456.0995 ,  4491.923  ,  2570.5354 ,\n",
       "       24393.275  , 16903.1095 , 14048.7656 , 16614.4633 , 11894.1111 ,\n",
       "       28115.8945 ,  5423.1332 ,  9545.3307 ,  5565.9051 ,  6344.0441 ,\n",
       "        4768.7726 ,  6455.0278 ,  4894.2426 , 10199.5028 , 12405.334  ,\n",
       "        4667.9527 ,  4381.03124,  2639.8075 , 46960.7818 , 13096.5957 ,\n",
       "       10964.0439 ,  4443.0216 , 14010.1814 ,  2270.6687 , 12796.4349 ,\n",
       "        3178.0229 , 24119.939  ,  9026.4564 ,  6706.0485 , 20026.4806 ,\n",
       "       19303.482  , 13052.654  , 10619.7752 , 10677.703  ,  5776.1303 ,\n",
       "       13678.0975 , 13010.4016 ,  9282.9592 , 19881.0474 ,  9059.3662 ,\n",
       "        3880.7815 ,  5058.9019 , 15333.9054 , 15879.837  ,  5440.5828 ,\n",
       "        2381.7327 , 10466.1325 ,  9288.9252 , 45201.9817 ,  2244.8768 ,\n",
       "       39097.67   ,  1723.9896 ,  2061.8982 ,  9771.308  , 11547.9191 ,\n",
       "        3471.4824 , 10005.4939 ,  9169.2791 , 24628.5177 , 10231.8915 ,\n",
       "        9546.1714 ,  4714.2146 ,  7795.2875 , 45135.6172 ,  3277.1751 ,\n",
       "       13404.4092 , 41177.4715 ,  3645.2818 ,  4029.4308 ,  1639.6437 ,\n",
       "        3582.1386 ,  4994.6819 ,  4582.0656 , 13260.1495 ,  1644.6723 ,\n",
       "        3360.43078,  7292.2528 ,  4749.83   , 12012.2799 ,  4745.6054 ,\n",
       "        4166.0582 , 12533.5768 ,  5706.3152 ,  9262.2833 ,  6528.9925 ,\n",
       "        7851.6781 , 14165.3498 , 19380.5312 , 47417.7609 , 12037.1076 ,\n",
       "        5993.2021 , 46566.8261 ,  9984.7994 ,  9711.6272 , 15075.8659 ,\n",
       "       10257.2304 , 13192.0868 , 12671.6797 , 14345.2171 ,  2487.9444 ,\n",
       "       13988.7308 ,  8051.4233 , 39879.3518 ,  7111.8146 ,  9662.2164 ,\n",
       "        9829.9536 , 14511.4256 , 11924.8043 ,  9930.3615 , 39627.5832 ,\n",
       "        2735.6112 , 10471.3704 , 48635.8955 ,  4731.9695 ,  4001.2572 ,\n",
       "        2263.7197 , 11267.6098 , 15870.9702 , 13281.3426 , 12582.9761 ,\n",
       "       14616.0304 , 10317.8539 ,  4955.5767 ,  3330.0654 , 39309.2621 ,\n",
       "       40312.7816 , 10955.1888 , 11058.6298 , 16398.4355 , 15501.1153 ,\n",
       "       40576.141  ,  2875.9452 , 47509.8246 ,  7977.0574 ,  1631.8236 ,\n",
       "        6783.7268 ,  5619.586  , 19026.0305 , 13547.8706 ,  2549.5429 ,\n",
       "       14349.9986 , 12059.3244 , 13093.5615 , 41719.2788 , 12385.5436 ,\n",
       "       25482.5336 ,  7617.401  , 16452.5398 ,  4593.3254 , 10858.0865 ,\n",
       "       10196.9228 , 16059.0988 , 16136.3805 ,  3139.3644 , 11566.1776 ,\n",
       "       13036.4134 , 12031.422  ,  5184.1944 , 33780.8118 ,  7052.1921 ])"
      ]
     },
     "execution_count": 50,
     "metadata": {},
     "output_type": "execute_result"
    }
   ],
   "source": [
    "y_pred3"
   ]
  },
  {
   "cell_type": "code",
   "execution_count": 51,
   "id": "232b7420",
   "metadata": {},
   "outputs": [
    {
     "name": "stdout",
     "output_type": "stream",
     "text": [
      "MSE : 22781019.98028181\n",
      "MAE : 2636.571657522388\n",
      "R score : 0.8418072510515874\n"
     ]
    }
   ],
   "source": [
    "print(\"MSE :\", mean_squared_error(y_pred3 , y_test))\n",
    "print(\"MAE :\" , mean_absolute_error(y_pred3, y_test))\n",
    "print(\"R score :\", r2_score(y_pred3, y_test))"
   ]
  },
  {
   "cell_type": "code",
   "execution_count": 52,
   "id": "9613134e",
   "metadata": {},
   "outputs": [
    {
     "data": {
      "image/png": "[encoded data removed]",
      "text/plain": [
       "<Figure size 432x288 with 1 Axes>"
      ]
     },
     "metadata": {
      "needs_background": "light"
     },
     "output_type": "display_data"
    }
   ],
   "source": [
    "r2_score = np.array([0.68 , 0.76, 0.83  ])\n",
    "labels = np.array([\"Linear Regression\" , \"Decision Tree\" , \"RandomForest\"])\n",
    "index = np.argsort(r2_score)\n",
    "color = plt.cm.rainbow(np.linspace(0, 1, 4))\n",
    "\n",
    "plt.bar(range(len(index)) , r2_score[index], color = color )\n",
    "plt.xticks(range(0,3),[\"Linear Regression\" , \"Decision Tree\" , \"RandomForest\"])\n",
    "plt.title(\"Comparing all models r2 Score\")\n",
    "plt.show()"
   ]
  },
  {
   "cell_type": "code",
   "execution_count": 53,
   "id": "abca508e",
   "metadata": {},
   "outputs": [],
   "source": [
    "# open a file where you want to store\n",
    "file = open(\"random_forest_regressor.pkl\", \"wb\")\n",
    "\n",
    "# dump information to that file\n",
    "pickle.dump(\"rf_random\", file)"
   ]
  },
  {
   "cell_type": "code",
   "execution_count": null,
   "id": "f98e5260",
   "metadata": {},
   "outputs": [],
   "source": []
  }
 ],
 "metadata": {
  "kernelspec": {
   "display_name": "Python 3",
   "language": "python",
   "name": "python3"
  },
  "language_info": {
   "codemirror_mode": {
    "name": "ipython",
    "version": 3
   },
   "file_extension": ".py",
   "mimetype": "text/x-python",
   "name": "python",
   "nbconvert_exporter": "python",
   "pygments_lexer": "ipython3",
   "version": "3.8.8"
  }
 },
 "nbformat": 4,
 "nbformat_minor": 5
}
